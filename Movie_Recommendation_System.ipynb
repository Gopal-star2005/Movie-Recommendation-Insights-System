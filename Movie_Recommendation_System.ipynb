{
  "nbformat": 4,
  "nbformat_minor": 0,
  "metadata": {
    "colab": {
      "provenance": []
    },
    "kernelspec": {
      "name": "python3",
      "display_name": "Python 3"
    },
    "language_info": {
      "name": "python"
    }
  },
  "cells": [
    {
      "cell_type": "code",
      "source": [
        "import pandas as pd\n",
        "from sklearn.feature_extraction.text import TfidfVectorizer\n",
        "from sklearn.metrics.pairwise import cosine_similarity\n",
        "\n",
        "df = pd.read_csv('movies_metadata.csv', low_memory=False)\n",
        "\n",
        "movies = df[['title', 'overview']].dropna().reset_index(drop=True)\n",
        "\n",
        "movies = movies.head(5000)\n",
        "\n",
        "movies['overview'] = movies['overview'].astype(str)\n",
        "\n",
        "tfidf = TfidfVectorizer(stop_words='english')\n",
        "tfidf_matrix = tfidf.fit_transform(movies['overview'])\n",
        "\n",
        "cosine_sim = cosine_similarity(tfidf_matrix, tfidf_matrix)\n",
        "\n",
        "indices = pd.Series(movies.index, index=movies['title']).drop_duplicates()\n",
        "\n",
        "def recommend_movies(title, cosine_sim=cosine_sim, n=5):\n",
        "    if title not in indices:\n",
        "        return \"Movie not found in dataset.\"\n",
        "    idx = indices[title]\n",
        "\n",
        "    sim_scores = list(enumerate(cosine_sim[idx]))\n",
        "\n",
        "    sim_scores = sorted(sim_scores, key=lambda x: x[1], reverse=True)\n",
        "\n",
        "    top_indices = [i[0] for i in sim_scores[1:n+1]]\n",
        "\n",
        "    return movies['title'].iloc[top_indices].tolist()\n",
        "\n",
        "print(\"Top 5 movie recommendations for 'The Godfather':\")\n",
        "print(recommend_movies('The Godfather'))\n"
      ],
      "metadata": {
        "colab": {
          "base_uri": "https://localhost:8080/"
        },
        "id": "UkpxGOuPQ6x9",
        "outputId": "a15da0f5-c6c6-4b02-ad72-18a4efe9a891"
      },
      "execution_count": 3,
      "outputs": [
        {
          "output_type": "stream",
          "name": "stdout",
          "text": [
            "Top 5 movie recommendations for 'The Godfather':\n",
            "['The Godfather: Part II', 'The Godfather: Part III', 'Made', 'Soft Fruit', 'American Movie']\n"
          ]
        }
      ]
    }
  ]
}